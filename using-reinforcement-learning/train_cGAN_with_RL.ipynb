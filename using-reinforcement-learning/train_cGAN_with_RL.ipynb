{
 "cells": [
  {
   "cell_type": "code",
   "execution_count": 3,
   "metadata": {
    "collapsed": true,
    "id": "PgGPhS6iiurm"
   },
   "outputs": [],
   "source": [
    "import numpy as np\n",
    "import tensorflow as tf\n",
    "import keras.api._v2.keras as K\n",
    "from tqdm import trange\n",
    "import keras\n",
    "import matplotlib.pyplot as plt\n",
    "#from IPython.core.display_functions import clear_output\n",
    "from IPython.display import clear_output \n",
    "import random\n",
    "import os\n",
    "import tensorflow_probability as tfp\n",
    "from sklearn.datasets import load_digits\n",
    "random.seed(0)\n",
    "np.random.seed(0)\n",
    "tf.random.set_seed(0)"
   ]
  },
  {
   "cell_type": "code",
   "execution_count": 4,
   "outputs": [],
   "source": [
    "NOISE_SHAPE = (128,)\n",
    "BATCH_SIZE_DISC = 16\n",
    "BATCH_SIZE_GEN = 16\n",
    "SAMPLES = 16\n",
    "STEPS = 1000000"
   ],
   "metadata": {
    "id": "ly6_wZ-Riurn"
   }
  },
  {
   "cell_type": "code",
   "execution_count": 5,
   "outputs": [],
   "source": [
    "(X_train, y_train) = load_digits(return_X_y=True)\n",
    "X_train = (X_train.astype(\"float32\").squeeze() > X_train.max()/2).astype(int).reshape((-1, 8, 8))"
   ],
   "metadata": {
    "id": "du9qfqghiurn"
   }
  },
  {
   "cell_type": "code",
   "execution_count": 7,
   "outputs": [
    {
     "name": "stdout",
     "output_type": "stream",
     "text": [
      "Metal device set to: Apple M1 Max\n"
     ]
    },
    {
     "name": "stderr",
     "output_type": "stream",
     "text": [
      "2023-02-14 23:28:38.988318: I tensorflow/core/common_runtime/pluggable_device/pluggable_device_factory.cc:306] Could not identify NUMA node of platform GPU ID 0, defaulting to 0. Your kernel may not have been built with NUMA support.\n",
      "2023-02-14 23:28:38.988350: I tensorflow/core/common_runtime/pluggable_device/pluggable_device_factory.cc:272] Created TensorFlow device (/job:localhost/replica:0/task:0/device:GPU:0 with 0 MB memory) -> physical PluggableDevice (device: 0, name: METAL, pci bus id: <undefined>)\n"
     ]
    }
   ],
   "source": [
    "noise = K.layers.Input(shape=NOISE_SHAPE)\n",
    "cls = K.layers.Input(shape=(10,))\n",
    "\n",
    "x = K.layers.Concatenate()([noise, cls])\n",
    "x = K.layers.Dense(256, activation=\"linear\")(x)\n",
    "x = K.layers.BatchNormalization()(x)\n",
    "x = K.layers.Activation(tf.nn.relu)(x)\n",
    "\n",
    "x = K.layers.Concatenate()([x, cls])\n",
    "x = K.layers.Dense(256, activation=\"linear\")(x)\n",
    "x = K.layers.BatchNormalization()(x)\n",
    "x = K.layers.Activation(tf.nn.relu)(x)\n",
    "\n",
    "x = K.layers.Concatenate()([x, cls])\n",
    "x = K.layers.Dense(256, activation=\"linear\")(x)\n",
    "x = K.layers.BatchNormalization()(x)\n",
    "x = K.layers.Activation(tf.nn.relu)(x)\n",
    "\n",
    "x = K.layers.Concatenate()([x, cls])\n",
    "x = K.layers.Dense(256, activation=\"linear\")(x)\n",
    "x = K.layers.BatchNormalization()(x)\n",
    "x = K.layers.Activation(tf.nn.relu)(x)\n",
    "\n",
    "x = K.layers.Concatenate()([x, cls])\n",
    "x = K.layers.Dense(256, activation=\"linear\")(x)\n",
    "x = K.layers.BatchNormalization()(x)\n",
    "x = K.layers.Activation(tf.nn.relu)(x)\n",
    "\n",
    "x = K.layers.Dense(2*8*8)(x)\n",
    "x = K.layers.Reshape([8,8,2])(x)\n",
    "x = K.layers.Softmax(axis=-1)(x)\n",
    "generator = K.Model(inputs=[noise, cls], outputs=[x])"
   ],
   "metadata": {
    "collapsed": false
   }
  },
  {
   "cell_type": "code",
   "execution_count": 25,
   "outputs": [],
   "source": [
    "image = K.layers.Input(shape=X_train.shape[1:]+(1,))\n",
    "x = K.layers.Conv2D(filters=64, kernel_size=(2,2), activation=tf.nn.leaky_relu, padding=\"SAME\")(image)\n",
    "x = K.layers.Conv2D(filters=64, kernel_size=(2,2), activation=tf.nn.leaky_relu, padding=\"SAME\")(x)\n",
    "x = K.layers.MaxPooling2D()(x)\n",
    "x = K.layers.Conv2D(filters=64, kernel_size=(2,2), activation=tf.nn.leaky_relu, padding=\"SAME\")(x)\n",
    "x = K.layers.Conv2D(filters=64, kernel_size=(2,2), activation=tf.nn.leaky_relu, padding=\"SAME\")(x)\n",
    "x = K.layers.MaxPooling2D()(x)\n",
    "\n",
    "cls = K.layers.Input(shape=(10,))\n",
    "x = K.layers.Flatten()(x)\n",
    "x = K.layers.Concatenate()([x, cls])\n",
    "x = K.layers.Dense(256, activation=tf.nn.leaky_relu)(x)\n",
    "x = K.layers.BatchNormalization()(x)\n",
    "x = K.layers.Dense(256, activation=tf.nn.leaky_relu)(x)\n",
    "x = K.layers.Dense(1, activation=\"sigmoid\")(x)\n",
    "discriminator = K.Model(inputs=[image, cls], outputs=[x])"
   ],
   "metadata": {
    "id": "XGYWHda4iuro"
   }
  },
  {
   "cell_type": "code",
   "execution_count": 26,
   "outputs": [],
   "source": [
    "opt_disc = tf.keras.optimizers.legacy.Adam(1e-4)\n",
    "opt_gen = tf.keras.optimizers.legacy.Adam(1e-4)"
   ],
   "metadata": {
    "id": "nPZUdDKziurp"
   }
  },
  {
   "cell_type": "code",
   "execution_count": 27,
   "outputs": [],
   "source": [
    "@tf.function\n",
    "def train_step_disc(real_images, real_labels,  noise_disc):\n",
    "    generator_labels = tf.squeeze(tf.one_hot(tfp.distributions.Categorical(probs=[.1]*10).sample(tf.shape(noise_disc)[0]), 10))\n",
    "    generated_images_probs = generator([noise_disc, generator_labels], training=False)\n",
    "    with tf.GradientTape(persistent=True) as tape:\n",
    "        generated_images_probs = tf.linalg.normalize(generated_images_probs + 0.05, axis=-1, ord=1)[0]\n",
    "        generated_images = tf.cast(tfp.distributions.Categorical(probs=generated_images_probs).sample(1)[...,None], tf.float32)[0]\n",
    "        predictions_that_should_be_1 = discriminator([real_images, real_labels])\n",
    "        predictions_that_should_be_0 = discriminator([generated_images, generator_labels])\n",
    "        #BCE\n",
    "        #loss_discriminator = tf.reduce_mean(-tf.math.log(1e-20 + predictions_that_should_be_1)) \\\n",
    "        #                     + tf.reduce_mean(-tf.math.log(1e-20 +  1 - predictions_that_should_be_0))\n",
    "        #MAE\n",
    "        loss_discriminator = tf.reduce_mean(tf.abs(predictions_that_should_be_1 - 0.9)) + \\\n",
    "                             tf.reduce_mean(tf.abs(predictions_that_should_be_0 - 0.1))\n",
    "    with tf.device(\"/CPU:0\"):\n",
    "        grad_disc = tape.gradient(loss_discriminator, discriminator.trainable_weights)\n",
    "    opt_disc.apply_gradients(zip(grad_disc, discriminator.trainable_weights))\n",
    "@tf.function\n",
    "def train_step_gen(noise_gen):\n",
    "    generator_labels = tf.squeeze(tf.one_hot(tfp.distributions.Categorical(probs=[.1]*10).sample(tf.shape(noise_gen)[0]), 10))\n",
    "    noise_gen = tf.repeat(noise_gen, SAMPLES, axis=0)\n",
    "    generator_labels = tf.repeat(generator_labels, SAMPLES, axis=0)\n",
    "    with tf.GradientTape(persistent=True) as tape:\n",
    "        generated_images_probs = generator([noise_gen, generator_labels], training=True)\n",
    "        generated_images_probs = tf.linalg.normalize(generated_images_probs + 0.05, axis=-1, ord=1)[0]\n",
    "        generated_images = tf.cast(tfp.distributions.Categorical(probs=generated_images_probs).sample(1)[...,None], tf.float32)[0]\n",
    "        predictions_that_should_be_0 = discriminator([\n",
    "            generated_images, generator_labels\n",
    "        ],training=False)\n",
    "        rewards = -(tf.round(predictions_that_should_be_0[..., None, None])*2-1)\n",
    "        log_pi_a_s = tf.math.log(tf.reduce_sum(tf.one_hot(tf.cast(tf.squeeze(generated_images), tf.int8), 2, axis=-1) * generated_images_probs, axis=-1, keepdims=True))\n",
    "        loss_generator = tf.reduce_sum(\n",
    "            log_pi_a_s * rewards\n",
    "        )\n",
    "    with tf.device(\"/CPU:0\"):\n",
    "        grad_gen = tape.gradient(loss_generator, generator.trainable_weights)\n",
    "    opt_gen.apply_gradients(zip(grad_gen, generator.trainable_weights))\n",
    "    return tf.reduce_mean(predictions_that_should_be_0)"
   ],
   "metadata": {
    "id": "Zw-5ZbdEiurp"
   }
  },
  {
   "cell_type": "code",
   "execution_count": 28,
   "outputs": [],
   "source": [
    "MODELS_PREFIX = f\"models/\"\n",
    "os.makedirs(MODELS_PREFIX, exist_ok=True)"
   ],
   "metadata": {
    "id": "9856314iiurp"
   }
  },
  {
   "cell_type": "code",
   "execution_count": null,
   "outputs": [
    {
     "name": "stdout",
     "output_type": "stream",
     "text": [
      "2.3717682e-07\n"
     ]
    },
    {
     "data": {
      "text/plain": "<Figure size 1000x300 with 4 Axes>",
      "image/png": "[encoded data removed]"
     },
     "metadata": {},
     "output_type": "display_data"
    },
    {
     "name": "stderr",
     "output_type": "stream",
     "text": [
      "  0%|          | 1610/1000000 [02:00<16:05:55, 17.23it/s]"
     ]
    }
   ],
   "source": [
    "latent_dim = NOISE_SHAPE[0]\n",
    "mean_reward = 0\n",
    "images_noise = np.random.normal(0, 1, (4, latent_dim))\n",
    "images_labels = np.array([\n",
    "    [1,0,0,0,0,0,0,0,0,0],\n",
    "    [0,1,0,0,0,0,0,0,0,0],\n",
    "    [0,0,1,0,0,0,0,0,0,0],\n",
    "    [0,0,0,1,0,0,0,0,0,0],\n",
    "])\n",
    "\n",
    "rewards = []\n",
    "for step in trange(STEPS):\n",
    "    # Train the discriminator\n",
    "    # Select a random batch of images\n",
    "    current_indexes = np.random.randint(0, X_train.shape[0],BATCH_SIZE_DISC)\n",
    "    real_images = X_train[current_indexes]\n",
    "    real_labels = tf.one_hot(y_train[current_indexes], 10).numpy().squeeze()\n",
    "    noise_disc = np.random.normal(0, 1, (BATCH_SIZE_DISC, latent_dim))\n",
    "    noise_gen = np.random.normal(0, 1, (BATCH_SIZE_GEN, latent_dim))\n",
    "    rewards.append(train_step(real_images, real_labels, noise_disc, noise_gen))\n",
    "    N = 10\n",
    "    if step % N == 0 :\n",
    "        # clear output\n",
    "        clear_output(wait=True)\n",
    "        print(np.mean(rewards[-3:]))\n",
    "        fig, axs = plt.subplots(1,4, figsize=(10,3))\n",
    "        images = generator([images_noise, images_labels]).numpy().argmax(axis=-1)\n",
    "        axs[0].imshow(images[0], cmap=\"gray\")\n",
    "        axs[1].imshow(images[1], cmap=\"gray\")\n",
    "        axs[2].imshow(images[2], cmap=\"gray\")\n",
    "        axs[3].imshow(images[3], cmap=\"gray\")\n",
    "        plt.show()\n",
    "        # save\n",
    "        discriminator.save_weights(f\"{MODELS_PREFIX}/discriminator\")\n",
    "        generator.save_weights(f\"{MODELS_PREFIX}/generator\")\n",
    "        print(generator([images_noise, images_labels]).numpy()[0,:10,:10,0].round(2))"
   ],
   "metadata": {
    "colab": {
     "base_uri": "https://localhost:8080/",
     "height": 740
    },
    "id": "6jybyEaBiurp",
    "outputId": "44c3e1db-7bbf-4208-c82d-287326e172d8",
    "pycharm": {
     "is_executing": true
    }
   }
  }
 ],
 "metadata": {
  "kernelspec": {
   "name": "ml-apple-metal-3-10",
   "language": "python",
   "display_name": "Python 3.10 (ML lib metal)"
  },
  "language_info": {
   "codemirror_mode": {
    "name": "ipython",
    "version": 2
   },
   "file_extension": ".py",
   "mimetype": "text/x-python",
   "name": "python",
   "nbconvert_exporter": "python",
   "pygments_lexer": "ipython2",
   "version": "2.7.6"
  },
  "colab": {
   "provenance": []
  },
  "accelerator": "GPU",
  "gpuClass": "standard"
 },
 "nbformat": 4,
 "nbformat_minor": 0
}
